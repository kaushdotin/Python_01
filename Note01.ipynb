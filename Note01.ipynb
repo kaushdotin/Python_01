{
  "nbformat": 4,
  "nbformat_minor": 0,
  "metadata": {
    "colab": {
      "provenance": [],
      "toc_visible": true,
      "authorship_tag": "ABX9TyN373hR474rGRcQMuxdjFnm",
      "include_colab_link": true
    },
    "kernelspec": {
      "name": "python3",
      "display_name": "Python 3"
    },
    "language_info": {
      "name": "python"
    }
  },
  "cells": [
    {
      "cell_type": "markdown",
      "metadata": {
        "id": "view-in-github",
        "colab_type": "text"
      },
      "source": [
        "<a href=\"https://colab.research.google.com/github/kaushdotin/Python_01/blob/master/Note01.ipynb\" target=\"_parent\"><img src=\"https://colab.research.google.com/assets/colab-badge.svg\" alt=\"Open In Colab\"/></a>"
      ]
    },
    {
      "cell_type": "markdown",
      "source": [
        "# Easy Maths\n",
        "Easy\n",
        "\n",
        "Help Naina to solve the two-varable equation (x + y) * (x + y) using Python programming.\n",
        "\n",
        "Example 1:\n",
        "\n",
        "Input:\n",
        "4\n",
        "\n",
        "3\n",
        "\n",
        "Output:\n",
        "49"
      ],
      "metadata": {
        "id": "Ur8yh5Pq_02H"
      }
    },
    {
      "cell_type": "code",
      "source": [
        "x = int(input())\n",
        "y = int(input())\n",
        "\n",
        "ans = (x + y) * (x + y)\n",
        "print(ans)"
      ],
      "metadata": {
        "id": "uWDNcQLXA473"
      },
      "execution_count": null,
      "outputs": []
    },
    {
      "cell_type": "markdown",
      "source": [
        "# Armstrong Award\n",
        "Easy\n",
        "\n",
        "\n",
        "In a maths competition, the Armstrong award would be presented to the one who would first tell the Armstrong number among all given numbers. Thus, write a program for Sam in Python to help him won the award.\n",
        "\n",
        "What is Armstrong Number?\n",
        "\n",
        "It is a number which is equal to the sum of cube of its digits. For eg: 153, 370 etc.\n",
        "\n",
        "Let's take 153 for an example\n",
        "\n",
        "First calculate the cube of its each digits\n",
        "\n",
        "1^3 = (1 * 1 * 1) = 1\n",
        "\n",
        "5^3 = (5 * 5 * 5) = 125\n",
        "\n",
        "3^3= (3 * 3 * 3) = 27\n",
        "\n",
        "Now add the cube\n",
        "\n",
        "1+125+27 = 153\n",
        "\n",
        "It means 153 is an Armstrong Number.\n",
        "\n",
        "Example 1:\n",
        "Input:\n",
        "153\n",
        "\n",
        "Output:\n",
        "Number is Armstrong\n",
        "\n",
        "Example 2:\n",
        "Input:\n",
        "450\n",
        "\n",
        "Output:\n",
        "Number is not Armstrong"
      ],
      "metadata": {
        "id": "jX361KfO_1bE"
      }
    },
    {
      "cell_type": "code",
      "source": [
        "userInput = input()\n",
        "\n",
        "output = []\n",
        "\n",
        "for i in userInput:\n",
        "  output.append(int(i)**3)\n",
        "\n",
        "f_output = sum(output)\n",
        "\n",
        "if f_output == int(userInput):\n",
        "  print(\"Number is Armstrong\")\n",
        "else:\n",
        "  print(\"Number is not Armstrong\")"
      ],
      "metadata": {
        "colab": {
          "base_uri": "https://localhost:8080/"
        },
        "id": "9MNt65ueBI9Q",
        "outputId": "5f8dca95-ca16-4110-f1d1-57bc13b98e35"
      },
      "execution_count": 2,
      "outputs": [
        {
          "output_type": "stream",
          "name": "stdout",
          "text": [
            "370\n",
            "Number is Armstrong\n"
          ]
        }
      ]
    },
    {
      "cell_type": "markdown",
      "source": [
        "# Python Problem\n",
        "\n",
        "Write a Python program to solve (x + y) * (x + y).\n",
        "\n",
        "Test Data : x = 4, y = 3\n",
        "\n",
        "Expected Output : (4 + 3) ^ 2) = 49\n",
        "\n",
        "Example 1:\n",
        "Input:\n",
        "4\n",
        "\n",
        "3\n",
        "\n",
        "Output:\n",
        "49"
      ],
      "metadata": {
        "id": "q0Zv4iLdAjGm"
      }
    },
    {
      "cell_type": "code",
      "source": [
        "x=int(input())\n",
        "y=int(input())\n",
        "\n",
        "Out = (x + y) * (x + y)\n",
        "print(Out)"
      ],
      "metadata": {
        "colab": {
          "base_uri": "https://localhost:8080/"
        },
        "id": "c_M-sm6oBAQ_",
        "outputId": "3368935f-d6a8-4fde-a486-260447ea0ca7"
      },
      "execution_count": 1,
      "outputs": [
        {
          "output_type": "stream",
          "name": "stdout",
          "text": [
            "2\n",
            "3\n",
            "25\n"
          ]
        }
      ]
    }
  ]
}